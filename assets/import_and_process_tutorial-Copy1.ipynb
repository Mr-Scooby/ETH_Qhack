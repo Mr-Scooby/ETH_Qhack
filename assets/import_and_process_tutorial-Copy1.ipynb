{
 "cells": [
  {
   "cell_type": "markdown",
   "id": "00c91ea7",
   "metadata": {},
   "source": [
    "# QASM import and process"
   ]
  },
  {
   "cell_type": "code",
   "execution_count": 75,
   "id": "ec7dd2e9",
   "metadata": {},
   "outputs": [],
   "source": [
    "from pathlib import Path\n",
    "\n",
    "# path to wherever Jupyter is launched from\n",
    "project_root = Path.cwd()  \n",
    "\n",
    "# now build a path to .qasm files\n",
    "qasm_dir   = project_root / \"baseline\"\n",
    "qasm_file_paths = sorted(qasm_dir.glob(\"*.qasm\"))\n",
    "\n",
    "\n",
    "if not qasm_file_paths:\n",
    "    raise FileNotFoundError(f\"No .qasm files found in {qasm_dir}\")"
   ]
  },
  {
   "cell_type": "markdown",
   "id": "17a21ef8",
   "metadata": {},
   "source": [
    "Now we bring in our Bloqade interpreters: first lowering into QASM via Bloqade's pipeline and then using a compiler pass that enables the circuit to be analyzed for parallelism"
   ]
  },
  {
   "cell_type": "code",
   "execution_count": 76,
   "id": "e8910009",
   "metadata": {},
   "outputs": [
    {
     "name": "stdout",
     "output_type": "stream",
     "text": [
      "→ /Users/radek/Documents/universidad/hackthon/ETH_Qhack/assets/baseline/0.1.qasm parsed & lowered: Method(\"0.1\")\n",
      "→ /Users/radek/Documents/universidad/hackthon/ETH_Qhack/assets/baseline/0.2.qasm parsed & lowered: Method(\"0.2\")\n",
      "→ /Users/radek/Documents/universidad/hackthon/ETH_Qhack/assets/baseline/0.4.qasm parsed & lowered: Method(\"0.4\")\n",
      "→ /Users/radek/Documents/universidad/hackthon/ETH_Qhack/assets/baseline/1.qasm parsed & lowered: Method(\"1\")\n",
      "→ /Users/radek/Documents/universidad/hackthon/ETH_Qhack/assets/baseline/2.qasm parsed & lowered: Method(\"2\")\n",
      "→ /Users/radek/Documents/universidad/hackthon/ETH_Qhack/assets/baseline/3.qasm parsed & lowered: Method(\"3\")\n",
      "→ /Users/radek/Documents/universidad/hackthon/ETH_Qhack/assets/baseline/4.qasm parsed & lowered: Method(\"4\")\n",
      "→ /Users/radek/Documents/universidad/hackthon/ETH_Qhack/assets/baseline/circ3.qasm parsed & lowered: Method(\"circ3\")\n",
      "→ /Users/radek/Documents/universidad/hackthon/ETH_Qhack/assets/baseline/circ_red.qasm parsed & lowered: Method(\"circ_red\")\n",
      "→ /Users/radek/Documents/universidad/hackthon/ETH_Qhack/assets/baseline/qft.qasm parsed & lowered: Method(\"qft\")\n"
     ]
    }
   ],
   "source": [
    "from bloqade import qasm2\n",
    "from bloqade.qasm2.parse.lowering import QASM2\n",
    "from bloqade.qasm2.passes import QASM2Py\n",
    "\n",
    "# parse & lower each one\n",
    "programs = {}\n",
    "for path in qasm_file_paths:\n",
    "    prog = QASM2(qasm2.main).loadfile(file=path)\n",
    "\n",
    "    \"\"\"\n",
    "    reinterpret into Bloqade's parallelization-friendly intermediate representation. \n",
    "    Similar behaviour could have been obtained by just using qasm2.extended above\n",
    "    \"\"\"\n",
    "    QASM2Py(prog.dialects)(prog)\n",
    "    prog = prog.similar(qasm2.extended)\n",
    "\n",
    "    programs[Path(path).stem] = prog\n",
    "    print(f\"→ {path} parsed & lowered: {prog}\")\n",
    "\n",
    "# `programs` now holds each file’s lowered IR under its filename-stem.\n"
   ]
  },
  {
   "cell_type": "markdown",
   "id": "8b84cf9e",
   "metadata": {},
   "source": [
    "For the above, we need to use the `loadfile()` method to read text from a file into a Bloqade program. If instead you want to read a QASM circuit that is already stored in a variable in your code as a string, use `loads()` as a method.\n",
    "\n",
    "Now we choose the target Bloqade dialect group that will be interpreting and compiling circuits to. Since we will be seeking parallelization of our circuits throughout, we enable that as follows"
   ]
  },
  {
   "cell_type": "code",
   "execution_count": 77,
   "id": "3a0ac80a",
   "metadata": {},
   "outputs": [],
   "source": [
    "from bloqade.qasm2.emit import QASM2 # the QASM2 target\n",
    "from bloqade.qasm2.parse import pprint # the QASM2 pretty printer\n",
    "\n",
    "target = QASM2(allow_parallel=True)"
   ]
  },
  {
   "cell_type": "markdown",
   "id": "3e1b6158",
   "metadata": {},
   "source": [
    "We are ready! Let's look at a QASM file of one of the programs we loaded.\n",
    "\n",
    "Note that `target.emit` produces an AST [Abstract Syntax Tree](https://en.wikipedia.org/wiki/Abstract_syntax_tree) that can be used for pretty printing but if you just want a standard QASM2 string to work with, you can use the `emit_str` method instead (: "
   ]
  },
  {
   "cell_type": "code",
   "execution_count": 78,
   "id": "c6254cf6",
   "metadata": {},
   "outputs": [
    {
     "name": "stdout",
     "output_type": "stream",
     "text": [
      "\u001b[90mKIRIN {func,lowering.call,lowering.func,py.ilist,qasm2.core,qasm2.expr,qasm2.indexing,qasm2.parallel,qasm2.uop,scf}\u001b[0m;\n",
      "\u001b[31minclude\u001b[0m \u001b[32m\"qelib1.inc\"\u001b[0m;\n",
      "\u001b[31mqreg\u001b[0m var_0[17];\n",
      "\u001b[31mcreg\u001b[0m var_1[17];\n",
      "\u001b[31mCX\u001b[0m \u001b[36mvar_0\u001b[0m[\u001b[39m3\u001b[0m], \u001b[36mvar_0\u001b[0m[\u001b[39m0\u001b[0m];\n",
      "\u001b[31mCX\u001b[0m \u001b[36mvar_0\u001b[0m[\u001b[39m4\u001b[0m], \u001b[36mvar_0\u001b[0m[\u001b[39m1\u001b[0m];\n",
      "\u001b[31mCX\u001b[0m \u001b[36mvar_0\u001b[0m[\u001b[39m3\u001b[0m], \u001b[36mvar_0\u001b[0m[\u001b[39m1\u001b[0m];\n",
      "\u001b[31mCX\u001b[0m \u001b[36mvar_0\u001b[0m[\u001b[39m4\u001b[0m], \u001b[36mvar_0\u001b[0m[\u001b[39m2\u001b[0m];\n",
      "\u001b[31mCX\u001b[0m \u001b[36mvar_0\u001b[0m[\u001b[39m6\u001b[0m], \u001b[36mvar_0\u001b[0m[\u001b[39m2\u001b[0m];\n",
      "\u001b[36mh\u001b[0m \u001b[36mvar_0\u001b[0m[\u001b[39m3\u001b[0m];\n",
      "\u001b[31mCX\u001b[0m \u001b[36mvar_0\u001b[0m[\u001b[39m11\u001b[0m], \u001b[36mvar_0\u001b[0m[\u001b[39m3\u001b[0m];\n",
      "\u001b[36mh\u001b[0m \u001b[36mvar_0\u001b[0m[\u001b[39m4\u001b[0m];\n",
      "\u001b[31mCX\u001b[0m \u001b[36mvar_0\u001b[0m[\u001b[39m3\u001b[0m], \u001b[36mvar_0\u001b[0m[\u001b[39m4\u001b[0m];\n",
      "\u001b[31mCX\u001b[0m \u001b[36mvar_0\u001b[0m[\u001b[39m11\u001b[0m], \u001b[36mvar_0\u001b[0m[\u001b[39m4\u001b[0m];\n",
      "\u001b[31mCX\u001b[0m \u001b[36mvar_0\u001b[0m[\u001b[39m2\u001b[0m], \u001b[36mvar_0\u001b[0m[\u001b[39m5\u001b[0m];\n",
      "\u001b[31mCX\u001b[0m \u001b[36mvar_0\u001b[0m[\u001b[39m4\u001b[0m], \u001b[36mvar_0\u001b[0m[\u001b[39m5\u001b[0m];\n",
      "\u001b[31mCX\u001b[0m \u001b[36mvar_0\u001b[0m[\u001b[39m6\u001b[0m], \u001b[36mvar_0\u001b[0m[\u001b[39m5\u001b[0m];\n",
      "\u001b[31mCX\u001b[0m \u001b[36mvar_0\u001b[0m[\u001b[39m11\u001b[0m], \u001b[36mvar_0\u001b[0m[\u001b[39m5\u001b[0m];\n",
      "\u001b[36mh\u001b[0m \u001b[36mvar_0\u001b[0m[\u001b[39m6\u001b[0m];\n",
      "\u001b[31mCX\u001b[0m \u001b[36mvar_0\u001b[0m[\u001b[39m11\u001b[0m], \u001b[36mvar_0\u001b[0m[\u001b[39m6\u001b[0m];\n",
      "\u001b[31mCX\u001b[0m \u001b[36mvar_0\u001b[0m[\u001b[39m6\u001b[0m], \u001b[36mvar_0\u001b[0m[\u001b[39m7\u001b[0m];\n",
      "\u001b[31mCX\u001b[0m \u001b[36mvar_0\u001b[0m[\u001b[39m2\u001b[0m], \u001b[36mvar_0\u001b[0m[\u001b[39m8\u001b[0m];\n",
      "\u001b[31mCX\u001b[0m \u001b[36mvar_0\u001b[0m[\u001b[39m11\u001b[0m], \u001b[36mvar_0\u001b[0m[\u001b[39m8\u001b[0m];\n",
      "\u001b[31mCX\u001b[0m \u001b[36mvar_0\u001b[0m[\u001b[39m14\u001b[0m], \u001b[36mvar_0\u001b[0m[\u001b[39m8\u001b[0m];\n",
      "\u001b[31mCX\u001b[0m \u001b[36mvar_0\u001b[0m[\u001b[39m2\u001b[0m], \u001b[36mvar_0\u001b[0m[\u001b[39m9\u001b[0m];\n",
      "\u001b[31mCX\u001b[0m \u001b[36mvar_0\u001b[0m[\u001b[39m11\u001b[0m], \u001b[36mvar_0\u001b[0m[\u001b[39m9\u001b[0m];\n",
      "\u001b[31mCX\u001b[0m \u001b[36mvar_0\u001b[0m[\u001b[39m14\u001b[0m], \u001b[36mvar_0\u001b[0m[\u001b[39m9\u001b[0m];\n",
      "\u001b[31mCX\u001b[0m \u001b[36mvar_0\u001b[0m[\u001b[39m15\u001b[0m], \u001b[36mvar_0\u001b[0m[\u001b[39m9\u001b[0m];\n",
      "\u001b[31mCX\u001b[0m \u001b[36mvar_0\u001b[0m[\u001b[39m2\u001b[0m], \u001b[36mvar_0\u001b[0m[\u001b[39m10\u001b[0m];\n",
      "\u001b[31mCX\u001b[0m \u001b[36mvar_0\u001b[0m[\u001b[39m11\u001b[0m], \u001b[36mvar_0\u001b[0m[\u001b[39m10\u001b[0m];\n",
      "\u001b[31mCX\u001b[0m \u001b[36mvar_0\u001b[0m[\u001b[39m15\u001b[0m], \u001b[36mvar_0\u001b[0m[\u001b[39m10\u001b[0m];\n",
      "\u001b[36mh\u001b[0m \u001b[36mvar_0\u001b[0m[\u001b[39m11\u001b[0m];\n",
      "\u001b[36mh\u001b[0m \u001b[36mvar_0\u001b[0m[\u001b[39m12\u001b[0m];\n",
      "\u001b[31mCX\u001b[0m \u001b[36mvar_0\u001b[0m[\u001b[39m14\u001b[0m], \u001b[36mvar_0\u001b[0m[\u001b[39m13\u001b[0m];\n",
      "\u001b[31mCX\u001b[0m \u001b[36mvar_0\u001b[0m[\u001b[39m16\u001b[0m], \u001b[36mvar_0\u001b[0m[\u001b[39m13\u001b[0m];\n",
      "\u001b[36mh\u001b[0m \u001b[36mvar_0\u001b[0m[\u001b[39m14\u001b[0m];\n",
      "\u001b[31mCX\u001b[0m \u001b[36mvar_0\u001b[0m[\u001b[39m15\u001b[0m], \u001b[36mvar_0\u001b[0m[\u001b[39m14\u001b[0m];\n",
      "\u001b[31mCX\u001b[0m \u001b[36mvar_0\u001b[0m[\u001b[39m16\u001b[0m], \u001b[36mvar_0\u001b[0m[\u001b[39m14\u001b[0m];\n",
      "\u001b[31mCX\u001b[0m \u001b[36mvar_0\u001b[0m[\u001b[39m16\u001b[0m], \u001b[36mvar_0\u001b[0m[\u001b[39m15\u001b[0m];\n",
      "\u001b[36mh\u001b[0m \u001b[36mvar_0\u001b[0m[\u001b[39m15\u001b[0m];\n",
      "\u001b[36mh\u001b[0m \u001b[36mvar_0\u001b[0m[\u001b[39m16\u001b[0m];\n"
     ]
    }
   ],
   "source": [
    "program_ast = target.emit(programs[\"circ3\"])\n",
    "pprint(program_ast)"
   ]
  },
  {
   "cell_type": "markdown",
   "id": "fee0df3d",
   "metadata": {},
   "source": [
    "These circuits are not ready for neutral-atom implementations. The native gates are not correct, and we don't see any parallelization of compatible unitaries. Let's revisit that then.\n",
    "\n",
    "If we were careful (we were!) to interpret our circuits with `qasm2.extended`, we can use our Kirin compiler tool chain to \"walk\" through the circuit and apply gate rewrites into our neutral-atom native set following correct rewrite rules. That is achieved as follows (dismiss warnings, if they appear!)"
   ]
  },
  {
   "cell_type": "code",
   "execution_count": 79,
   "id": "a35a0aa2",
   "metadata": {},
   "outputs": [],
   "source": [
    "# There's a dependency in Bloqade that (currently)\n",
    "# spits out some warnings you don't need to worry about.\n",
    "import warnings\n",
    "warnings.filterwarnings(\"ignore\")\n",
    "\n",
    "from bloqade.qasm2.rewrite.native_gates import RydbergGateSetRewriteRule\n",
    "from kirin.rewrite import Walk\n",
    "\n",
    "\n",
    "circuit = programs[\"circ3\"]\n",
    "\n",
    "Walk(RydbergGateSetRewriteRule(circuit.dialects)).rewrite(circuit.code);"
   ]
  },
  {
   "cell_type": "markdown",
   "id": "120c733f",
   "metadata": {},
   "source": [
    "Transformations on the circuit happen in place (because we didn't use `similar()` to generate a new circuit). Let's see what happened"
   ]
  },
  {
   "cell_type": "code",
   "execution_count": 80,
   "id": "6163f033",
   "metadata": {},
   "outputs": [
    {
     "name": "stdout",
     "output_type": "stream",
     "text": [
      "\u001b[90mKIRIN {func,lowering.call,lowering.func,py.ilist,qasm2.core,qasm2.expr,qasm2.indexing,qasm2.parallel,qasm2.uop,scf}\u001b[0m;\n",
      "\u001b[31minclude\u001b[0m \u001b[32m\"qelib1.inc\"\u001b[0m;\n",
      "\u001b[31mqreg\u001b[0m var_0[17];\n",
      "\u001b[31mcreg\u001b[0m var_1[17];\n",
      "\u001b[31mU\u001b[0m(1.5707963267949, 3.14159265358979, 3.14159265358979) \u001b[36mvar_0\u001b[0m[\u001b[39m0\u001b[0m];\n",
      "\u001b[36mcz\u001b[0m \u001b[36mvar_0\u001b[0m[\u001b[39m3\u001b[0m], \u001b[36mvar_0\u001b[0m[\u001b[39m0\u001b[0m];\n",
      "\u001b[31mU\u001b[0m(1.5707963267949, 0.0, 6.28318530717959) \u001b[36mvar_0\u001b[0m[\u001b[39m0\u001b[0m];\n",
      "\u001b[31mU\u001b[0m(1.5707963267949, 3.14159265358979, 3.14159265358979) \u001b[36mvar_0\u001b[0m[\u001b[39m1\u001b[0m];\n",
      "\u001b[36mcz\u001b[0m \u001b[36mvar_0\u001b[0m[\u001b[39m4\u001b[0m], \u001b[36mvar_0\u001b[0m[\u001b[39m1\u001b[0m];\n",
      "\u001b[31mU\u001b[0m(1.5707963267949, 0.0, 6.28318530717959) \u001b[36mvar_0\u001b[0m[\u001b[39m1\u001b[0m];\n",
      "\u001b[31mU\u001b[0m(1.5707963267949, 3.14159265358979, 3.14159265358979) \u001b[36mvar_0\u001b[0m[\u001b[39m1\u001b[0m];\n",
      "\u001b[36mcz\u001b[0m \u001b[36mvar_0\u001b[0m[\u001b[39m3\u001b[0m], \u001b[36mvar_0\u001b[0m[\u001b[39m1\u001b[0m];\n",
      "\u001b[31mU\u001b[0m(1.5707963267949, 0.0, 6.28318530717959) \u001b[36mvar_0\u001b[0m[\u001b[39m1\u001b[0m];\n",
      "\u001b[31mU\u001b[0m(1.5707963267949, 3.14159265358979, 3.14159265358979) \u001b[36mvar_0\u001b[0m[\u001b[39m2\u001b[0m];\n",
      "\u001b[36mcz\u001b[0m \u001b[36mvar_0\u001b[0m[\u001b[39m4\u001b[0m], \u001b[36mvar_0\u001b[0m[\u001b[39m2\u001b[0m];\n",
      "\u001b[31mU\u001b[0m(1.5707963267949, 0.0, 6.28318530717959) \u001b[36mvar_0\u001b[0m[\u001b[39m2\u001b[0m];\n",
      "\u001b[31mU\u001b[0m(1.5707963267949, 3.14159265358979, 3.14159265358979) \u001b[36mvar_0\u001b[0m[\u001b[39m2\u001b[0m];\n",
      "\u001b[36mcz\u001b[0m \u001b[36mvar_0\u001b[0m[\u001b[39m6\u001b[0m], \u001b[36mvar_0\u001b[0m[\u001b[39m2\u001b[0m];\n",
      "\u001b[31mU\u001b[0m(1.5707963267949, 0.0, 6.28318530717959) \u001b[36mvar_0\u001b[0m[\u001b[39m2\u001b[0m];\n",
      "\u001b[31mU\u001b[0m(1.5707963267949, 0.0, 3.14159265358979) \u001b[36mvar_0\u001b[0m[\u001b[39m3\u001b[0m];\n",
      "\u001b[31mU\u001b[0m(1.5707963267949, 3.14159265358979, 3.14159265358979) \u001b[36mvar_0\u001b[0m[\u001b[39m3\u001b[0m];\n",
      "\u001b[36mcz\u001b[0m \u001b[36mvar_0\u001b[0m[\u001b[39m11\u001b[0m], \u001b[36mvar_0\u001b[0m[\u001b[39m3\u001b[0m];\n",
      "\u001b[31mU\u001b[0m(1.5707963267949, 0.0, 6.28318530717959) \u001b[36mvar_0\u001b[0m[\u001b[39m3\u001b[0m];\n",
      "\u001b[31mU\u001b[0m(1.5707963267949, 0.0, 3.14159265358979) \u001b[36mvar_0\u001b[0m[\u001b[39m4\u001b[0m];\n",
      "\u001b[31mU\u001b[0m(1.5707963267949, 3.14159265358979, 3.14159265358979) \u001b[36mvar_0\u001b[0m[\u001b[39m4\u001b[0m];\n",
      "\u001b[36mcz\u001b[0m \u001b[36mvar_0\u001b[0m[\u001b[39m3\u001b[0m], \u001b[36mvar_0\u001b[0m[\u001b[39m4\u001b[0m];\n",
      "\u001b[31mU\u001b[0m(1.5707963267949, 0.0, 6.28318530717959) \u001b[36mvar_0\u001b[0m[\u001b[39m4\u001b[0m];\n",
      "\u001b[31mU\u001b[0m(1.5707963267949, 3.14159265358979, 3.14159265358979) \u001b[36mvar_0\u001b[0m[\u001b[39m4\u001b[0m];\n",
      "\u001b[36mcz\u001b[0m \u001b[36mvar_0\u001b[0m[\u001b[39m11\u001b[0m], \u001b[36mvar_0\u001b[0m[\u001b[39m4\u001b[0m];\n",
      "\u001b[31mU\u001b[0m(1.5707963267949, 0.0, 6.28318530717959) \u001b[36mvar_0\u001b[0m[\u001b[39m4\u001b[0m];\n",
      "\u001b[31mU\u001b[0m(1.5707963267949, 3.14159265358979, 3.14159265358979) \u001b[36mvar_0\u001b[0m[\u001b[39m5\u001b[0m];\n",
      "\u001b[36mcz\u001b[0m \u001b[36mvar_0\u001b[0m[\u001b[39m2\u001b[0m], \u001b[36mvar_0\u001b[0m[\u001b[39m5\u001b[0m];\n",
      "\u001b[31mU\u001b[0m(1.5707963267949, 0.0, 6.28318530717959) \u001b[36mvar_0\u001b[0m[\u001b[39m5\u001b[0m];\n",
      "\u001b[31mU\u001b[0m(1.5707963267949, 3.14159265358979, 3.14159265358979) \u001b[36mvar_0\u001b[0m[\u001b[39m5\u001b[0m];\n",
      "\u001b[36mcz\u001b[0m \u001b[36mvar_0\u001b[0m[\u001b[39m4\u001b[0m], \u001b[36mvar_0\u001b[0m[\u001b[39m5\u001b[0m];\n",
      "\u001b[31mU\u001b[0m(1.5707963267949, 0.0, 6.28318530717959) \u001b[36mvar_0\u001b[0m[\u001b[39m5\u001b[0m];\n",
      "\u001b[31mU\u001b[0m(1.5707963267949, 3.14159265358979, 3.14159265358979) \u001b[36mvar_0\u001b[0m[\u001b[39m5\u001b[0m];\n",
      "\u001b[36mcz\u001b[0m \u001b[36mvar_0\u001b[0m[\u001b[39m6\u001b[0m], \u001b[36mvar_0\u001b[0m[\u001b[39m5\u001b[0m];\n",
      "\u001b[31mU\u001b[0m(1.5707963267949, 0.0, 6.28318530717959) \u001b[36mvar_0\u001b[0m[\u001b[39m5\u001b[0m];\n",
      "\u001b[31mU\u001b[0m(1.5707963267949, 3.14159265358979, 3.14159265358979) \u001b[36mvar_0\u001b[0m[\u001b[39m5\u001b[0m];\n",
      "\u001b[36mcz\u001b[0m \u001b[36mvar_0\u001b[0m[\u001b[39m11\u001b[0m], \u001b[36mvar_0\u001b[0m[\u001b[39m5\u001b[0m];\n",
      "\u001b[31mU\u001b[0m(1.5707963267949, 0.0, 6.28318530717959) \u001b[36mvar_0\u001b[0m[\u001b[39m5\u001b[0m];\n",
      "\u001b[31mU\u001b[0m(1.5707963267949, 0.0, 3.14159265358979) \u001b[36mvar_0\u001b[0m[\u001b[39m6\u001b[0m];\n",
      "\u001b[31mU\u001b[0m(1.5707963267949, 3.14159265358979, 3.14159265358979) \u001b[36mvar_0\u001b[0m[\u001b[39m6\u001b[0m];\n",
      "\u001b[36mcz\u001b[0m \u001b[36mvar_0\u001b[0m[\u001b[39m11\u001b[0m], \u001b[36mvar_0\u001b[0m[\u001b[39m6\u001b[0m];\n",
      "\u001b[31mU\u001b[0m(1.5707963267949, 0.0, 6.28318530717959) \u001b[36mvar_0\u001b[0m[\u001b[39m6\u001b[0m];\n",
      "\u001b[31mU\u001b[0m(1.5707963267949, 3.14159265358979, 3.14159265358979) \u001b[36mvar_0\u001b[0m[\u001b[39m7\u001b[0m];\n",
      "\u001b[36mcz\u001b[0m \u001b[36mvar_0\u001b[0m[\u001b[39m6\u001b[0m], \u001b[36mvar_0\u001b[0m[\u001b[39m7\u001b[0m];\n",
      "\u001b[31mU\u001b[0m(1.5707963267949, 0.0, 6.28318530717959) \u001b[36mvar_0\u001b[0m[\u001b[39m7\u001b[0m];\n",
      "\u001b[31mU\u001b[0m(1.5707963267949, 3.14159265358979, 3.14159265358979) \u001b[36mvar_0\u001b[0m[\u001b[39m8\u001b[0m];\n",
      "\u001b[36mcz\u001b[0m \u001b[36mvar_0\u001b[0m[\u001b[39m2\u001b[0m], \u001b[36mvar_0\u001b[0m[\u001b[39m8\u001b[0m];\n",
      "\u001b[31mU\u001b[0m(1.5707963267949, 0.0, 6.28318530717959) \u001b[36mvar_0\u001b[0m[\u001b[39m8\u001b[0m];\n",
      "\u001b[31mU\u001b[0m(1.5707963267949, 3.14159265358979, 3.14159265358979) \u001b[36mvar_0\u001b[0m[\u001b[39m8\u001b[0m];\n",
      "\u001b[36mcz\u001b[0m \u001b[36mvar_0\u001b[0m[\u001b[39m11\u001b[0m], \u001b[36mvar_0\u001b[0m[\u001b[39m8\u001b[0m];\n",
      "\u001b[31mU\u001b[0m(1.5707963267949, 0.0, 6.28318530717959) \u001b[36mvar_0\u001b[0m[\u001b[39m8\u001b[0m];\n",
      "\u001b[31mU\u001b[0m(1.5707963267949, 3.14159265358979, 3.14159265358979) \u001b[36mvar_0\u001b[0m[\u001b[39m8\u001b[0m];\n",
      "\u001b[36mcz\u001b[0m \u001b[36mvar_0\u001b[0m[\u001b[39m14\u001b[0m], \u001b[36mvar_0\u001b[0m[\u001b[39m8\u001b[0m];\n",
      "\u001b[31mU\u001b[0m(1.5707963267949, 0.0, 6.28318530717959) \u001b[36mvar_0\u001b[0m[\u001b[39m8\u001b[0m];\n",
      "\u001b[31mU\u001b[0m(1.5707963267949, 3.14159265358979, 3.14159265358979) \u001b[36mvar_0\u001b[0m[\u001b[39m9\u001b[0m];\n",
      "\u001b[36mcz\u001b[0m \u001b[36mvar_0\u001b[0m[\u001b[39m2\u001b[0m], \u001b[36mvar_0\u001b[0m[\u001b[39m9\u001b[0m];\n",
      "\u001b[31mU\u001b[0m(1.5707963267949, 0.0, 6.28318530717959) \u001b[36mvar_0\u001b[0m[\u001b[39m9\u001b[0m];\n",
      "\u001b[31mU\u001b[0m(1.5707963267949, 3.14159265358979, 3.14159265358979) \u001b[36mvar_0\u001b[0m[\u001b[39m9\u001b[0m];\n",
      "\u001b[36mcz\u001b[0m \u001b[36mvar_0\u001b[0m[\u001b[39m11\u001b[0m], \u001b[36mvar_0\u001b[0m[\u001b[39m9\u001b[0m];\n",
      "\u001b[31mU\u001b[0m(1.5707963267949, 0.0, 6.28318530717959) \u001b[36mvar_0\u001b[0m[\u001b[39m9\u001b[0m];\n",
      "\u001b[31mU\u001b[0m(1.5707963267949, 3.14159265358979, 3.14159265358979) \u001b[36mvar_0\u001b[0m[\u001b[39m9\u001b[0m];\n",
      "\u001b[36mcz\u001b[0m \u001b[36mvar_0\u001b[0m[\u001b[39m14\u001b[0m], \u001b[36mvar_0\u001b[0m[\u001b[39m9\u001b[0m];\n",
      "\u001b[31mU\u001b[0m(1.5707963267949, 0.0, 6.28318530717959) \u001b[36mvar_0\u001b[0m[\u001b[39m9\u001b[0m];\n",
      "\u001b[31mU\u001b[0m(1.5707963267949, 3.14159265358979, 3.14159265358979) \u001b[36mvar_0\u001b[0m[\u001b[39m9\u001b[0m];\n",
      "\u001b[36mcz\u001b[0m \u001b[36mvar_0\u001b[0m[\u001b[39m15\u001b[0m], \u001b[36mvar_0\u001b[0m[\u001b[39m9\u001b[0m];\n",
      "\u001b[31mU\u001b[0m(1.5707963267949, 0.0, 6.28318530717959) \u001b[36mvar_0\u001b[0m[\u001b[39m9\u001b[0m];\n",
      "\u001b[31mU\u001b[0m(1.5707963267949, 3.14159265358979, 3.14159265358979) \u001b[36mvar_0\u001b[0m[\u001b[39m10\u001b[0m];\n",
      "\u001b[36mcz\u001b[0m \u001b[36mvar_0\u001b[0m[\u001b[39m2\u001b[0m], \u001b[36mvar_0\u001b[0m[\u001b[39m10\u001b[0m];\n",
      "\u001b[31mU\u001b[0m(1.5707963267949, 0.0, 6.28318530717959) \u001b[36mvar_0\u001b[0m[\u001b[39m10\u001b[0m];\n",
      "\u001b[31mU\u001b[0m(1.5707963267949, 3.14159265358979, 3.14159265358979) \u001b[36mvar_0\u001b[0m[\u001b[39m10\u001b[0m];\n",
      "\u001b[36mcz\u001b[0m \u001b[36mvar_0\u001b[0m[\u001b[39m11\u001b[0m], \u001b[36mvar_0\u001b[0m[\u001b[39m10\u001b[0m];\n",
      "\u001b[31mU\u001b[0m(1.5707963267949, 0.0, 6.28318530717959) \u001b[36mvar_0\u001b[0m[\u001b[39m10\u001b[0m];\n",
      "\u001b[31mU\u001b[0m(1.5707963267949, 3.14159265358979, 3.14159265358979) \u001b[36mvar_0\u001b[0m[\u001b[39m10\u001b[0m];\n",
      "\u001b[36mcz\u001b[0m \u001b[36mvar_0\u001b[0m[\u001b[39m15\u001b[0m], \u001b[36mvar_0\u001b[0m[\u001b[39m10\u001b[0m];\n",
      "\u001b[31mU\u001b[0m(1.5707963267949, 0.0, 6.28318530717959) \u001b[36mvar_0\u001b[0m[\u001b[39m10\u001b[0m];\n",
      "\u001b[31mU\u001b[0m(1.5707963267949, 0.0, 3.14159265358979) \u001b[36mvar_0\u001b[0m[\u001b[39m11\u001b[0m];\n",
      "\u001b[31mU\u001b[0m(1.5707963267949, 0.0, 3.14159265358979) \u001b[36mvar_0\u001b[0m[\u001b[39m12\u001b[0m];\n",
      "\u001b[31mU\u001b[0m(1.5707963267949, 3.14159265358979, 3.14159265358979) \u001b[36mvar_0\u001b[0m[\u001b[39m13\u001b[0m];\n",
      "\u001b[36mcz\u001b[0m \u001b[36mvar_0\u001b[0m[\u001b[39m14\u001b[0m], \u001b[36mvar_0\u001b[0m[\u001b[39m13\u001b[0m];\n",
      "\u001b[31mU\u001b[0m(1.5707963267949, 0.0, 6.28318530717959) \u001b[36mvar_0\u001b[0m[\u001b[39m13\u001b[0m];\n",
      "\u001b[31mU\u001b[0m(1.5707963267949, 3.14159265358979, 3.14159265358979) \u001b[36mvar_0\u001b[0m[\u001b[39m13\u001b[0m];\n",
      "\u001b[36mcz\u001b[0m \u001b[36mvar_0\u001b[0m[\u001b[39m16\u001b[0m], \u001b[36mvar_0\u001b[0m[\u001b[39m13\u001b[0m];\n",
      "\u001b[31mU\u001b[0m(1.5707963267949, 0.0, 6.28318530717959) \u001b[36mvar_0\u001b[0m[\u001b[39m13\u001b[0m];\n",
      "\u001b[31mU\u001b[0m(1.5707963267949, 0.0, 3.14159265358979) \u001b[36mvar_0\u001b[0m[\u001b[39m14\u001b[0m];\n",
      "\u001b[31mU\u001b[0m(1.5707963267949, 3.14159265358979, 3.14159265358979) \u001b[36mvar_0\u001b[0m[\u001b[39m14\u001b[0m];\n",
      "\u001b[36mcz\u001b[0m \u001b[36mvar_0\u001b[0m[\u001b[39m15\u001b[0m], \u001b[36mvar_0\u001b[0m[\u001b[39m14\u001b[0m];\n",
      "\u001b[31mU\u001b[0m(1.5707963267949, 0.0, 6.28318530717959) \u001b[36mvar_0\u001b[0m[\u001b[39m14\u001b[0m];\n",
      "\u001b[31mU\u001b[0m(1.5707963267949, 3.14159265358979, 3.14159265358979) \u001b[36mvar_0\u001b[0m[\u001b[39m14\u001b[0m];\n",
      "\u001b[36mcz\u001b[0m \u001b[36mvar_0\u001b[0m[\u001b[39m16\u001b[0m], \u001b[36mvar_0\u001b[0m[\u001b[39m14\u001b[0m];\n",
      "\u001b[31mU\u001b[0m(1.5707963267949, 0.0, 6.28318530717959) \u001b[36mvar_0\u001b[0m[\u001b[39m14\u001b[0m];\n",
      "\u001b[31mU\u001b[0m(1.5707963267949, 3.14159265358979, 3.14159265358979) \u001b[36mvar_0\u001b[0m[\u001b[39m15\u001b[0m];\n",
      "\u001b[36mcz\u001b[0m \u001b[36mvar_0\u001b[0m[\u001b[39m16\u001b[0m], \u001b[36mvar_0\u001b[0m[\u001b[39m15\u001b[0m];\n",
      "\u001b[31mU\u001b[0m(1.5707963267949, 0.0, 6.28318530717959) \u001b[36mvar_0\u001b[0m[\u001b[39m15\u001b[0m];\n",
      "\u001b[31mU\u001b[0m(1.5707963267949, 0.0, 3.14159265358979) \u001b[36mvar_0\u001b[0m[\u001b[39m15\u001b[0m];\n",
      "\u001b[31mU\u001b[0m(1.5707963267949, 0.0, 3.14159265358979) \u001b[36mvar_0\u001b[0m[\u001b[39m16\u001b[0m];\n"
     ]
    }
   ],
   "source": [
    "native_gates_unoptimized_ast = target.emit(circuit)\n",
    "pprint(native_gates_unoptimized_ast)"
   ]
  },
  {
   "cell_type": "markdown",
   "id": "9e228f0f",
   "metadata": {},
   "source": [
    "All the CNOTs and Hadamards were converted accordingly to CZs and $R_y(\\pi/2)$ rotations. This is the gate-set that we want!\n",
    "\n",
    "The process above was a compiler pass and we are not done with them. Now we want to generate parallel commands. We can do that via another pass as follows"
   ]
  },
  {
   "cell_type": "code",
   "execution_count": 81,
   "id": "6886b745",
   "metadata": {},
   "outputs": [],
   "source": [
    "from bloqade.qasm2.passes import UOpToParallel\n",
    "\n",
    "UOpToParallel(circuit.dialects)(circuit)\n",
    "parallelized_circuit = circuit.similar(qasm2.extended)"
   ]
  },
  {
   "cell_type": "markdown",
   "id": "e81358cd",
   "metadata": {},
   "source": [
    "Now circuit got modified, but we created a copy of it and saved in `circuit_parallel` for the sake of example. Let's see what we got"
   ]
  },
  {
   "cell_type": "code",
   "execution_count": 82,
   "id": "da705886",
   "metadata": {},
   "outputs": [
    {
     "name": "stdout",
     "output_type": "stream",
     "text": [
      "\u001b[90mKIRIN {func,lowering.call,lowering.func,py.ilist,qasm2.core,qasm2.expr,qasm2.indexing,qasm2.parallel,qasm2.uop,scf}\u001b[0m;\n",
      "\u001b[31minclude\u001b[0m \u001b[32m\"qelib1.inc\"\u001b[0m;\n",
      "\u001b[31mqreg\u001b[0m var_0[17];\n",
      "\u001b[31mcreg\u001b[0m var_1[17];\n",
      "\u001b[31mparallel.U\u001b[0m(1.5707963267949, 3.14159265358979, 3.14159265358979) {\n",
      "\u001b[90m  \u001b[0m\u001b[36mvar_0\u001b[0m[\u001b[39m0\u001b[0m];\n",
      "\u001b[90m  \u001b[0m\u001b[36mvar_0\u001b[0m[\u001b[39m1\u001b[0m];\n",
      "\u001b[90m  \u001b[0m\u001b[36mvar_0\u001b[0m[\u001b[39m2\u001b[0m];\n",
      "\u001b[90m  \u001b[0m\u001b[36mvar_0\u001b[0m[\u001b[39m5\u001b[0m];\n",
      "\u001b[90m  \u001b[0m\u001b[36mvar_0\u001b[0m[\u001b[39m7\u001b[0m];\n",
      "\u001b[90m  \u001b[0m\u001b[36mvar_0\u001b[0m[\u001b[39m8\u001b[0m];\n",
      "\u001b[90m  \u001b[0m\u001b[36mvar_0\u001b[0m[\u001b[39m9\u001b[0m];\n",
      "\u001b[90m  \u001b[0m\u001b[36mvar_0\u001b[0m[\u001b[39m10\u001b[0m];\n",
      "\u001b[90m  \u001b[0m\u001b[36mvar_0\u001b[0m[\u001b[39m13\u001b[0m];\n",
      "}\n",
      "\u001b[31mparallel.CZ \u001b[0m{\n",
      "\u001b[90m  \u001b[0m\u001b[36mvar_0\u001b[0m[\u001b[39m3\u001b[0m], \u001b[36mvar_0\u001b[0m[\u001b[39m0\u001b[0m];\n",
      "\u001b[90m  \u001b[0m\u001b[36mvar_0\u001b[0m[\u001b[39m4\u001b[0m], \u001b[36mvar_0\u001b[0m[\u001b[39m1\u001b[0m];\n",
      "}\n",
      "\u001b[31mparallel.U\u001b[0m(1.5707963267949, 0.0, 6.28318530717959) {\n",
      "\u001b[90m  \u001b[0m\u001b[36mvar_0\u001b[0m[\u001b[39m0\u001b[0m];\n",
      "\u001b[90m  \u001b[0m\u001b[36mvar_0\u001b[0m[\u001b[39m1\u001b[0m];\n",
      "}\n",
      "\u001b[31mU\u001b[0m(1.5707963267949, 3.14159265358979, 3.14159265358979) \u001b[36mvar_0\u001b[0m[\u001b[39m1\u001b[0m];\n",
      "\u001b[36mcz\u001b[0m \u001b[36mvar_0\u001b[0m[\u001b[39m3\u001b[0m], \u001b[36mvar_0\u001b[0m[\u001b[39m1\u001b[0m];\n",
      "\u001b[31mU\u001b[0m(1.5707963267949, 0.0, 6.28318530717959) \u001b[36mvar_0\u001b[0m[\u001b[39m1\u001b[0m];\n",
      "\u001b[36mcz\u001b[0m \u001b[36mvar_0\u001b[0m[\u001b[39m4\u001b[0m], \u001b[36mvar_0\u001b[0m[\u001b[39m2\u001b[0m];\n",
      "\u001b[31mU\u001b[0m(1.5707963267949, 0.0, 6.28318530717959) \u001b[36mvar_0\u001b[0m[\u001b[39m2\u001b[0m];\n",
      "\u001b[31mparallel.U\u001b[0m(1.5707963267949, 3.14159265358979, 3.14159265358979) {\n",
      "\u001b[90m  \u001b[0m\u001b[36mvar_0\u001b[0m[\u001b[39m2\u001b[0m];\n",
      "\u001b[90m  \u001b[0m\u001b[36mvar_0\u001b[0m[\u001b[39m4\u001b[0m];\n",
      "}\n",
      "\u001b[36mcz\u001b[0m \u001b[36mvar_0\u001b[0m[\u001b[39m6\u001b[0m], \u001b[36mvar_0\u001b[0m[\u001b[39m2\u001b[0m];\n",
      "\u001b[31mU\u001b[0m(1.5707963267949, 0.0, 6.28318530717959) \u001b[36mvar_0\u001b[0m[\u001b[39m2\u001b[0m];\n",
      "\u001b[31mU\u001b[0m(1.5707963267949, 0.0, 3.14159265358979) \u001b[36mvar_0\u001b[0m[\u001b[39m3\u001b[0m];\n",
      "\u001b[31mU\u001b[0m(1.5707963267949, 3.14159265358979, 3.14159265358979) \u001b[36mvar_0\u001b[0m[\u001b[39m3\u001b[0m];\n",
      "\u001b[31mparallel.CZ \u001b[0m{\n",
      "\u001b[90m  \u001b[0m\u001b[36mvar_0\u001b[0m[\u001b[39m11\u001b[0m], \u001b[36mvar_0\u001b[0m[\u001b[39m3\u001b[0m];\n",
      "\u001b[90m  \u001b[0m\u001b[36mvar_0\u001b[0m[\u001b[39m2\u001b[0m], \u001b[36mvar_0\u001b[0m[\u001b[39m5\u001b[0m];\n",
      "}\n",
      "\u001b[31mparallel.U\u001b[0m(1.5707963267949, 0.0, 6.28318530717959) {\n",
      "\u001b[90m  \u001b[0m\u001b[36mvar_0\u001b[0m[\u001b[39m3\u001b[0m];\n",
      "\u001b[90m  \u001b[0m\u001b[36mvar_0\u001b[0m[\u001b[39m5\u001b[0m];\n",
      "}\n",
      "\u001b[31mU\u001b[0m(1.5707963267949, 0.0, 3.14159265358979) \u001b[36mvar_0\u001b[0m[\u001b[39m4\u001b[0m];\n",
      "\u001b[31mparallel.CZ \u001b[0m{\n",
      "\u001b[90m  \u001b[0m\u001b[36mvar_0\u001b[0m[\u001b[39m3\u001b[0m], \u001b[36mvar_0\u001b[0m[\u001b[39m4\u001b[0m];\n",
      "\u001b[90m  \u001b[0m\u001b[36mvar_0\u001b[0m[\u001b[39m2\u001b[0m], \u001b[36mvar_0\u001b[0m[\u001b[39m9\u001b[0m];\n",
      "}\n",
      "\u001b[31mparallel.U\u001b[0m(1.5707963267949, 0.0, 6.28318530717959) {\n",
      "\u001b[90m  \u001b[0m\u001b[36mvar_0\u001b[0m[\u001b[39m4\u001b[0m];\n",
      "\u001b[90m  \u001b[0m\u001b[36mvar_0\u001b[0m[\u001b[39m9\u001b[0m];\n",
      "}\n",
      "\u001b[31mparallel.U\u001b[0m(1.5707963267949, 3.14159265358979, 3.14159265358979) {\n",
      "\u001b[90m  \u001b[0m\u001b[36mvar_0\u001b[0m[\u001b[39m4\u001b[0m];\n",
      "\u001b[90m  \u001b[0m\u001b[36mvar_0\u001b[0m[\u001b[39m9\u001b[0m];\n",
      "}\n",
      "\u001b[36mcz\u001b[0m \u001b[36mvar_0\u001b[0m[\u001b[39m11\u001b[0m], \u001b[36mvar_0\u001b[0m[\u001b[39m4\u001b[0m];\n",
      "\u001b[31mU\u001b[0m(1.5707963267949, 0.0, 6.28318530717959) \u001b[36mvar_0\u001b[0m[\u001b[39m4\u001b[0m];\n",
      "\u001b[31mU\u001b[0m(1.5707963267949, 3.14159265358979, 3.14159265358979) \u001b[36mvar_0\u001b[0m[\u001b[39m5\u001b[0m];\n",
      "\u001b[36mcz\u001b[0m \u001b[36mvar_0\u001b[0m[\u001b[39m4\u001b[0m], \u001b[36mvar_0\u001b[0m[\u001b[39m5\u001b[0m];\n",
      "\u001b[31mU\u001b[0m(1.5707963267949, 0.0, 6.28318530717959) \u001b[36mvar_0\u001b[0m[\u001b[39m5\u001b[0m];\n",
      "\u001b[31mU\u001b[0m(1.5707963267949, 3.14159265358979, 3.14159265358979) \u001b[36mvar_0\u001b[0m[\u001b[39m5\u001b[0m];\n",
      "\u001b[36mcz\u001b[0m \u001b[36mvar_0\u001b[0m[\u001b[39m6\u001b[0m], \u001b[36mvar_0\u001b[0m[\u001b[39m5\u001b[0m];\n",
      "\u001b[31mU\u001b[0m(1.5707963267949, 0.0, 6.28318530717959) \u001b[36mvar_0\u001b[0m[\u001b[39m5\u001b[0m];\n",
      "\u001b[31mparallel.U\u001b[0m(1.5707963267949, 3.14159265358979, 3.14159265358979) {\n",
      "\u001b[90m  \u001b[0m\u001b[36mvar_0\u001b[0m[\u001b[39m5\u001b[0m];\n",
      "\u001b[90m  \u001b[0m\u001b[36mvar_0\u001b[0m[\u001b[39m6\u001b[0m];\n",
      "}\n",
      "\u001b[36mcz\u001b[0m \u001b[36mvar_0\u001b[0m[\u001b[39m11\u001b[0m], \u001b[36mvar_0\u001b[0m[\u001b[39m5\u001b[0m];\n",
      "\u001b[31mU\u001b[0m(1.5707963267949, 0.0, 6.28318530717959) \u001b[36mvar_0\u001b[0m[\u001b[39m5\u001b[0m];\n",
      "\u001b[31mU\u001b[0m(1.5707963267949, 0.0, 3.14159265358979) \u001b[36mvar_0\u001b[0m[\u001b[39m6\u001b[0m];\n",
      "\u001b[36mcz\u001b[0m \u001b[36mvar_0\u001b[0m[\u001b[39m11\u001b[0m], \u001b[36mvar_0\u001b[0m[\u001b[39m6\u001b[0m];\n",
      "\u001b[31mU\u001b[0m(1.5707963267949, 0.0, 6.28318530717959) \u001b[36mvar_0\u001b[0m[\u001b[39m6\u001b[0m];\n",
      "\u001b[31mparallel.CZ \u001b[0m{\n",
      "\u001b[90m  \u001b[0m\u001b[36mvar_0\u001b[0m[\u001b[39m6\u001b[0m], \u001b[36mvar_0\u001b[0m[\u001b[39m7\u001b[0m];\n",
      "\u001b[90m  \u001b[0m\u001b[36mvar_0\u001b[0m[\u001b[39m11\u001b[0m], \u001b[36mvar_0\u001b[0m[\u001b[39m9\u001b[0m];\n",
      "}\n",
      "\u001b[31mparallel.U\u001b[0m(1.5707963267949, 0.0, 6.28318530717959) {\n",
      "\u001b[90m  \u001b[0m\u001b[36mvar_0\u001b[0m[\u001b[39m7\u001b[0m];\n",
      "\u001b[90m  \u001b[0m\u001b[36mvar_0\u001b[0m[\u001b[39m9\u001b[0m];\n",
      "}\n",
      "\u001b[36mcz\u001b[0m \u001b[36mvar_0\u001b[0m[\u001b[39m2\u001b[0m], \u001b[36mvar_0\u001b[0m[\u001b[39m8\u001b[0m];\n",
      "\u001b[31mU\u001b[0m(1.5707963267949, 0.0, 6.28318530717959) \u001b[36mvar_0\u001b[0m[\u001b[39m8\u001b[0m];\n",
      "\u001b[31mU\u001b[0m(1.5707963267949, 3.14159265358979, 3.14159265358979) \u001b[36mvar_0\u001b[0m[\u001b[39m8\u001b[0m];\n",
      "\u001b[36mcz\u001b[0m \u001b[36mvar_0\u001b[0m[\u001b[39m11\u001b[0m], \u001b[36mvar_0\u001b[0m[\u001b[39m8\u001b[0m];\n",
      "\u001b[31mU\u001b[0m(1.5707963267949, 0.0, 6.28318530717959) \u001b[36mvar_0\u001b[0m[\u001b[39m8\u001b[0m];\n",
      "\u001b[31mU\u001b[0m(1.5707963267949, 3.14159265358979, 3.14159265358979) \u001b[36mvar_0\u001b[0m[\u001b[39m8\u001b[0m];\n",
      "\u001b[36mcz\u001b[0m \u001b[36mvar_0\u001b[0m[\u001b[39m14\u001b[0m], \u001b[36mvar_0\u001b[0m[\u001b[39m8\u001b[0m];\n",
      "\u001b[31mU\u001b[0m(1.5707963267949, 0.0, 6.28318530717959) \u001b[36mvar_0\u001b[0m[\u001b[39m8\u001b[0m];\n",
      "\u001b[31mU\u001b[0m(1.5707963267949, 3.14159265358979, 3.14159265358979) \u001b[36mvar_0\u001b[0m[\u001b[39m9\u001b[0m];\n",
      "\u001b[36mcz\u001b[0m \u001b[36mvar_0\u001b[0m[\u001b[39m14\u001b[0m], \u001b[36mvar_0\u001b[0m[\u001b[39m9\u001b[0m];\n",
      "\u001b[31mU\u001b[0m(1.5707963267949, 0.0, 6.28318530717959) \u001b[36mvar_0\u001b[0m[\u001b[39m9\u001b[0m];\n",
      "\u001b[31mU\u001b[0m(1.5707963267949, 3.14159265358979, 3.14159265358979) \u001b[36mvar_0\u001b[0m[\u001b[39m9\u001b[0m];\n",
      "\u001b[36mcz\u001b[0m \u001b[36mvar_0\u001b[0m[\u001b[39m15\u001b[0m], \u001b[36mvar_0\u001b[0m[\u001b[39m9\u001b[0m];\n",
      "\u001b[31mU\u001b[0m(1.5707963267949, 0.0, 6.28318530717959) \u001b[36mvar_0\u001b[0m[\u001b[39m9\u001b[0m];\n",
      "\u001b[36mcz\u001b[0m \u001b[36mvar_0\u001b[0m[\u001b[39m2\u001b[0m], \u001b[36mvar_0\u001b[0m[\u001b[39m10\u001b[0m];\n",
      "\u001b[31mU\u001b[0m(1.5707963267949, 0.0, 6.28318530717959) \u001b[36mvar_0\u001b[0m[\u001b[39m10\u001b[0m];\n",
      "\u001b[31mU\u001b[0m(1.5707963267949, 3.14159265358979, 3.14159265358979) \u001b[36mvar_0\u001b[0m[\u001b[39m10\u001b[0m];\n",
      "\u001b[36mcz\u001b[0m \u001b[36mvar_0\u001b[0m[\u001b[39m11\u001b[0m], \u001b[36mvar_0\u001b[0m[\u001b[39m10\u001b[0m];\n",
      "\u001b[31mU\u001b[0m(1.5707963267949, 0.0, 6.28318530717959) \u001b[36mvar_0\u001b[0m[\u001b[39m10\u001b[0m];\n",
      "\u001b[31mU\u001b[0m(1.5707963267949, 3.14159265358979, 3.14159265358979) \u001b[36mvar_0\u001b[0m[\u001b[39m10\u001b[0m];\n",
      "\u001b[31mparallel.CZ \u001b[0m{\n",
      "\u001b[90m  \u001b[0m\u001b[36mvar_0\u001b[0m[\u001b[39m15\u001b[0m], \u001b[36mvar_0\u001b[0m[\u001b[39m10\u001b[0m];\n",
      "\u001b[90m  \u001b[0m\u001b[36mvar_0\u001b[0m[\u001b[39m16\u001b[0m], \u001b[36mvar_0\u001b[0m[\u001b[39m13\u001b[0m];\n",
      "}\n",
      "\u001b[31mparallel.U\u001b[0m(1.5707963267949, 0.0, 6.28318530717959) {\n",
      "\u001b[90m  \u001b[0m\u001b[36mvar_0\u001b[0m[\u001b[39m10\u001b[0m];\n",
      "\u001b[90m  \u001b[0m\u001b[36mvar_0\u001b[0m[\u001b[39m13\u001b[0m];\n",
      "}\n",
      "\u001b[31mU\u001b[0m(1.5707963267949, 0.0, 3.14159265358979) \u001b[36mvar_0\u001b[0m[\u001b[39m11\u001b[0m];\n",
      "\u001b[31mU\u001b[0m(1.5707963267949, 0.0, 3.14159265358979) \u001b[36mvar_0\u001b[0m[\u001b[39m12\u001b[0m];\n",
      "\u001b[36mcz\u001b[0m \u001b[36mvar_0\u001b[0m[\u001b[39m14\u001b[0m], \u001b[36mvar_0\u001b[0m[\u001b[39m13\u001b[0m];\n",
      "\u001b[31mU\u001b[0m(1.5707963267949, 0.0, 6.28318530717959) \u001b[36mvar_0\u001b[0m[\u001b[39m13\u001b[0m];\n",
      "\u001b[31mparallel.U\u001b[0m(1.5707963267949, 3.14159265358979, 3.14159265358979) {\n",
      "\u001b[90m  \u001b[0m\u001b[36mvar_0\u001b[0m[\u001b[39m13\u001b[0m];\n",
      "\u001b[90m  \u001b[0m\u001b[36mvar_0\u001b[0m[\u001b[39m14\u001b[0m];\n",
      "}\n",
      "\u001b[31mU\u001b[0m(1.5707963267949, 0.0, 3.14159265358979) \u001b[36mvar_0\u001b[0m[\u001b[39m14\u001b[0m];\n",
      "\u001b[36mcz\u001b[0m \u001b[36mvar_0\u001b[0m[\u001b[39m15\u001b[0m], \u001b[36mvar_0\u001b[0m[\u001b[39m14\u001b[0m];\n",
      "\u001b[31mU\u001b[0m(1.5707963267949, 0.0, 6.28318530717959) \u001b[36mvar_0\u001b[0m[\u001b[39m14\u001b[0m];\n",
      "\u001b[31mU\u001b[0m(1.5707963267949, 3.14159265358979, 3.14159265358979) \u001b[36mvar_0\u001b[0m[\u001b[39m14\u001b[0m];\n",
      "\u001b[36mcz\u001b[0m \u001b[36mvar_0\u001b[0m[\u001b[39m16\u001b[0m], \u001b[36mvar_0\u001b[0m[\u001b[39m14\u001b[0m];\n",
      "\u001b[31mU\u001b[0m(1.5707963267949, 0.0, 6.28318530717959) \u001b[36mvar_0\u001b[0m[\u001b[39m14\u001b[0m];\n",
      "\u001b[31mU\u001b[0m(1.5707963267949, 3.14159265358979, 3.14159265358979) \u001b[36mvar_0\u001b[0m[\u001b[39m15\u001b[0m];\n",
      "\u001b[36mcz\u001b[0m \u001b[36mvar_0\u001b[0m[\u001b[39m16\u001b[0m], \u001b[36mvar_0\u001b[0m[\u001b[39m15\u001b[0m];\n",
      "\u001b[31mU\u001b[0m(1.5707963267949, 0.0, 6.28318530717959) \u001b[36mvar_0\u001b[0m[\u001b[39m15\u001b[0m];\n",
      "\u001b[31mU\u001b[0m(1.5707963267949, 0.0, 3.14159265358979) \u001b[36mvar_0\u001b[0m[\u001b[39m15\u001b[0m];\n",
      "\u001b[31mU\u001b[0m(1.5707963267949, 0.0, 3.14159265358979) \u001b[36mvar_0\u001b[0m[\u001b[39m16\u001b[0m];\n"
     ]
    }
   ],
   "source": [
    "native_gates_optimized_ast = target.emit(parallelized_circuit)\n",
    "pprint(native_gates_optimized_ast)"
   ]
  },
  {
   "cell_type": "markdown",
   "id": "ef84b1d9",
   "metadata": {},
   "source": [
    "Now we got a circuit that can be interpreted by a neutral-atom quantum computer with the understanding of what operations can (and should!) be done in parallel.\n",
    "\n",
    "## Parallelization performance analysis\n",
    "\n",
    "How well did we do? Let's count our parallel operations! Some of our operations are parallelizable, but others are not. Counting them in separate can be promptly achieved from the QASM file as follows"
   ]
  },
  {
   "cell_type": "code",
   "execution_count": 83,
   "id": "89288eb4",
   "metadata": {},
   "outputs": [],
   "source": [
    "# Put the code below into a function that accepts an AST\n",
    "# and prints the counts \n",
    "\n",
    "def print_gate_counts(ast): \n",
    "    \"\"\"\n",
    "    Print the counts of parallel and non parallel in the given AST,\n",
    "    Distinguishing between single U and CZ gates and their parallelized versions.\n",
    "    \"\"\"\n",
    "    test_string = qasm2.parse.spprint(ast)\n",
    "\n",
    "    parallel_cz_count = test_string.count(\"parallel.CZ\")\n",
    "    parallel_u_count = test_string.count(\"parallel.U\")\n",
    "    u_count = test_string.count(\"U\")  # To avoid counting \"parallel.U\"\n",
    "    cz_count = test_string.count(\"cz\")\n",
    "\n",
    "    print(f\"parallel CZ: {parallel_cz_count}\")\n",
    "    print(f\"parallel U: {parallel_u_count}\")\n",
    "    print(f\"other U: {u_count - parallel_u_count}\")\n",
    "    print(f\"other CZ: {cz_count}\")"
   ]
  },
  {
   "cell_type": "code",
   "execution_count": 84,
   "id": "d616eaeb",
   "metadata": {},
   "outputs": [
    {
     "name": "stdout",
     "output_type": "stream",
     "text": [
      "Unoptimized Circuit with Native Gates\n",
      "parallel CZ: 0\n",
      "parallel U: 0\n",
      "other U: 66\n",
      "other CZ: 29\n",
      "\n",
      "\n",
      "Optimized Circuit with Native Gates\n",
      "parallel CZ: 5\n",
      "parallel U: 10\n",
      "other U: 39\n",
      "other CZ: 19\n"
     ]
    }
   ],
   "source": [
    "# Lets plug in the AST we got from translating the QAOA circuit \n",
    "# to the native gate set but with no optimizations\n",
    "\n",
    "print(\"Unoptimized Circuit with Native Gates\")\n",
    "print_gate_counts(native_gates_unoptimized_ast)\n",
    "\n",
    "print(\"\\n\")\n",
    "\n",
    "# Now lets plug in the AST we got after parallelization\n",
    "\n",
    "print(\"Optimized Circuit with Native Gates\")\n",
    "print_gate_counts(native_gates_optimized_ast)"
   ]
  },
  {
   "cell_type": "markdown",
   "id": "374d04c5",
   "metadata": {},
   "source": [
    "But if you want to operate directly from a Bloqade program, a circuit will have a `callable_region` that can be \"walked\" and examined for the gates that appear in them. Then, we can extract our counts as"
   ]
  },
  {
   "cell_type": "code",
   "execution_count": 85,
   "id": "742ec50e",
   "metadata": {},
   "outputs": [
    {
     "name": "stdout",
     "output_type": "stream",
     "text": [
      "parallel CZ: 5\n",
      "parallel U: 10\n",
      "Other U: 39\n",
      "other CZ: 19\n"
     ]
    }
   ],
   "source": [
    "parallel_cz = 0\n",
    "standard_cz = 0\n",
    "parallel_u = 0\n",
    "other_u = 0\n",
    "for stmt in parallelized_circuit.callable_region.walk():\n",
    "    \n",
    "    if isinstance(stmt, qasm2.dialects.parallel.CZ):\n",
    "        parallel_cz += 1\n",
    "    elif isinstance(stmt, qasm2.dialects.uop.CZ):\n",
    "        standard_cz += 1\n",
    "    elif isinstance(stmt, (qasm2.dialects.parallel.UGate, qasm2.dialects.parallel.RZ)):\n",
    "        parallel_u += 1\n",
    "    elif isinstance(stmt, (qasm2.dialects.uop.SingleQubitGate)):\n",
    "        other_u += 1\n",
    "    #else: print(stmt)\n",
    "        \n",
    "print(f\"parallel CZ: {parallel_cz}\")\n",
    "print(f\"parallel U: {parallel_u}\")\n",
    "print(f\"Other U: {other_u}\")\n",
    "print(f\"other CZ: {standard_cz}\")"
   ]
  },
  {
   "cell_type": "markdown",
   "id": "6a816295",
   "metadata": {},
   "source": [
    "## Visualization\n",
    "\n",
    "Ok, looking at QASM can be a bit tiring. While Bloqade shines in allowing you to optimize programs for neutral atom architectures as well as build complex circuits easily, we are still working on visualization functionalities. While that is not ready, we can always use other packages to help! For example, if you like Qiskit, we can define a simple method to generate a Qiskit circuit from our new circuits. \n",
    "\n",
    "First let's just define a compiler pass that combines all the process above; then we ensure that every circuit exported to Qiskit will be recompiled in advance. Here we go."
   ]
  },
  {
   "cell_type": "code",
   "execution_count": 86,
   "id": "38fd7e35",
   "metadata": {
    "jupyter": {
     "source_hidden": true
    }
   },
   "outputs": [],
   "source": [
    "from kirin import ir\n",
    "from qiskit import QuantumCircuit\n",
    "\n",
    "from bloqade.qasm2.rewrite.native_gates import RydbergGateSetRewriteRule\n",
    "from kirin import ir\n",
    "from kirin.rewrite import Walk\n",
    "from bloqade.qasm2.passes import UOpToParallel, QASM2Fold\n",
    "\n",
    "\n",
    "@ir.dialect_group(qasm2.extended)\n",
    "def extended_opt(self):\n",
    "    native_rewrite = Walk(RydbergGateSetRewriteRule(self)) # use Kirin's functionality to walk code line by line while applying neutral-atom gate decomposition as defined in Bloqade\n",
    "    parallelize_pass = UOpToParallel(self) # review the code and apply parallelization using a heuristic\n",
    "    agg_fold = QASM2Fold(self) # supports parallelization by unfolding loops to search for parallelization opportunities\n",
    "\n",
    "    # here we define our new compiler pass\n",
    "    def run_pass(\n",
    "        kernel: ir.Method,\n",
    "        *,\n",
    "        fold: bool = True,\n",
    "        typeinfer: bool = True,\n",
    "        parallelize: bool = False,\n",
    "    ):\n",
    "        assert qasm2.extended.run_pass is not None\n",
    "        qasm2.extended.run_pass(kernel, fold=fold, typeinfer=typeinfer) # apply the original run_pass to the lowered kernel\n",
    "        native_rewrite.rewrite(kernel.code) # decompose all gates in the circuit to neutral atom gate set\n",
    "\n",
    "        # here goes our parallelization optimizer; the order of the commands here matters!\n",
    "        if parallelize:\n",
    "            agg_fold.fixpoint(kernel)\n",
    "            parallelize_pass(kernel)\n",
    "\n",
    "    return run_pass\n",
    "\n",
    "\n",
    "# helper to go from Method → Qiskit\n",
    "def method_to_qiskit(method: ir.Method, *,parallelize: bool = True) -> QuantumCircuit:\n",
    "    # run extended pass in case forgot\n",
    "    extended_opt.run_pass(method, parallelize=parallelize)\n",
    "    # emit OpenQASM2 text\n",
    "    qasm = QASM2().emit_str(method)\n",
    "    # parse into a Qiskit circuit\n",
    "    return QuantumCircuit.from_qasm_str(qasm)\n"
   ]
  },
  {
   "cell_type": "markdown",
   "id": "cf9366b4",
   "metadata": {},
   "source": [
    "Let's see this in action"
   ]
  },
  {
   "cell_type": "code",
   "execution_count": 87,
   "id": "84790065",
   "metadata": {},
   "outputs": [
    {
     "data": {
      "image/png": "[encoded data removed]",
      "text/plain": [
       "<Figure size 2949.19x1076.91 with 1 Axes>"
      ]
     },
     "metadata": {},
     "output_type": "display_data"
    }
   ],
   "source": [
    "qc = method_to_qiskit(parallelized_circuit)\n",
    "#print(qc.draw(output=\"text\"))\n",
    "fig = qc.draw(output=\"mpl\", fold=120, scale=0.7)\n",
    "display(fig)   # in a Jupyter notebook"
   ]
  },
  {
   "cell_type": "markdown",
   "id": "b7b685a7",
   "metadata": {},
   "source": [
    "When producing images automatically, we lose a bit the handles of the barriers that define parallelizable operations. Still, for simple circuits, these can still be inspected by eye, helping optimization."
   ]
  }
 ],
 "metadata": {
  "kernelspec": {
   "display_name": "Python 3 (ipykernel)",
   "language": "python",
   "name": "python3"
  },
  "language_info": {
   "codemirror_mode": {
    "name": "ipython",
    "version": 3
   },
   "file_extension": ".py",
   "mimetype": "text/x-python",
   "name": "python",
   "nbconvert_exporter": "python",
   "pygments_lexer": "ipython3",
   "version": "3.12.9"
  }
 },
 "nbformat": 4,
 "nbformat_minor": 5
}

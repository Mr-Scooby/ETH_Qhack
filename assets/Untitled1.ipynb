{
 "cells": [
  {
   "cell_type": "code",
   "execution_count": 2,
   "id": "9cf56c40-f620-4d70-8281-8093e29385b8",
   "metadata": {},
   "outputs": [],
   "source": [
    "from pathlib import Path\n",
    "\n",
    "# path to wherever Jupyter is launched from\n",
    "project_root = Path.cwd()  \n",
    "\n",
    "# now build a path to .qasm files\n",
    "qasm_dir   = project_root / \"baseline\"\n",
    "qasm_file_paths = sorted(qasm_dir.glob(\"*.qasm\"))\n",
    "\n",
    "\n",
    "if not qasm_file_paths:\n",
    "    raise FileNotFoundError(f\"No .qasm files found in {qasm_dir}\")\n"
   ]
  },
  {
   "cell_type": "code",
   "execution_count": 3,
   "id": "79ca8791-e848-4785-b081-e28ecd59bb3d",
   "metadata": {},
   "outputs": [
    {
     "name": "stdout",
     "output_type": "stream",
     "text": [
      "→ /Users/radek/Documents/universidad/hackthon/ETH_Qhack/assets/baseline/0.1.qasm parsed & lowered: Method(\"0.1\")\n",
      "→ /Users/radek/Documents/universidad/hackthon/ETH_Qhack/assets/baseline/0.2.qasm parsed & lowered: Method(\"0.2\")\n",
      "→ /Users/radek/Documents/universidad/hackthon/ETH_Qhack/assets/baseline/0.4.qasm parsed & lowered: Method(\"0.4\")\n",
      "→ /Users/radek/Documents/universidad/hackthon/ETH_Qhack/assets/baseline/1.qasm parsed & lowered: Method(\"1\")\n",
      "→ /Users/radek/Documents/universidad/hackthon/ETH_Qhack/assets/baseline/2.qasm parsed & lowered: Method(\"2\")\n",
      "→ /Users/radek/Documents/universidad/hackthon/ETH_Qhack/assets/baseline/3.qasm parsed & lowered: Method(\"3\")\n",
      "→ /Users/radek/Documents/universidad/hackthon/ETH_Qhack/assets/baseline/4.qasm parsed & lowered: Method(\"4\")\n",
      "→ /Users/radek/Documents/universidad/hackthon/ETH_Qhack/assets/baseline/qft.qasm parsed & lowered: Method(\"qft\")\n"
     ]
    }
   ],
   "source": [
    "from bloqade import qasm2\n",
    "from bloqade.qasm2.parse.lowering import QASM2\n",
    "from bloqade.qasm2.passes import QASM2Py\n",
    "\n",
    "# parse & lower each one\n",
    "programs = {}\n",
    "for path in qasm_file_paths:\n",
    "    prog = QASM2(qasm2.main).loadfile(file=path)\n",
    "\n",
    "    \"\"\"\n",
    "    reinterpret into Bloqade's parallelization-friendly intermediate representation. \n",
    "    Similar behaviour could have been obtained by just using qasm2.extended above\n",
    "    \"\"\"\n",
    "    QASM2Py(prog.dialects)(prog)\n",
    "    prog = prog.similar(qasm2.extended)\n",
    "\n",
    "    programs[Path(path).stem] = prog\n",
    "    print(f\"→ {path} parsed & lowered: {prog}\")\n",
    "\n",
    "# `programs` now holds each file’s lowered IR under its filename-stem.\n"
   ]
  },
  {
   "cell_type": "code",
   "execution_count": 4,
   "id": "325ce000-b74f-435b-b5ee-31081847bfb1",
   "metadata": {},
   "outputs": [],
   "source": [
    "from bloqade.qasm2.emit import QASM2 # the QASM2 target\n",
    "from bloqade.qasm2.parse import pprint # the QASM2 pretty printer\n",
    "\n",
    "target = QASM2(allow_parallel=True)"
   ]
  },
  {
   "cell_type": "code",
   "execution_count": 5,
   "id": "f3114c30-e197-417a-802c-665383af8248",
   "metadata": {},
   "outputs": [
    {
     "name": "stdout",
     "output_type": "stream",
     "text": [
      "\u001b[90mKIRIN {func,lowering.call,lowering.func,py.ilist,qasm2.core,qasm2.expr,qasm2.indexing,qasm2.parallel,qasm2.uop,scf}\u001b[0m;\n",
      "\u001b[31minclude\u001b[0m \u001b[32m\"qelib1.inc\"\u001b[0m;\n",
      "\u001b[31mqreg\u001b[0m var_0[3];\n",
      "\u001b[31mcreg\u001b[0m var_1[3];\n",
      "\u001b[36mh\u001b[0m \u001b[36mvar_0\u001b[0m[\u001b[39m2\u001b[0m];\n",
      "\u001b[36mcrz\u001b[0m (1.5707963267948966) \u001b[36mvar_0\u001b[0m[\u001b[39m1\u001b[0m], \u001b[36mvar_0\u001b[0m[\u001b[39m2\u001b[0m];\n",
      "\u001b[36mcrz\u001b[0m (0.7853981633974483) \u001b[36mvar_0\u001b[0m[\u001b[39m0\u001b[0m], \u001b[36mvar_0\u001b[0m[\u001b[39m2\u001b[0m];\n",
      "\u001b[36mh\u001b[0m \u001b[36mvar_0\u001b[0m[\u001b[39m1\u001b[0m];\n",
      "\u001b[36mcrz\u001b[0m (1.5707963267948966) \u001b[36mvar_0\u001b[0m[\u001b[39m0\u001b[0m], \u001b[36mvar_0\u001b[0m[\u001b[39m1\u001b[0m];\n",
      "\u001b[36mh\u001b[0m \u001b[36mvar_0\u001b[0m[\u001b[39m0\u001b[0m];\n"
     ]
    }
   ],
   "source": [
    "program_ast = target.emit(programs[\"qft\"])\n",
    "pprint(program_ast)"
   ]
  },
  {
   "cell_type": "code",
   "execution_count": 18,
   "id": "38e1e451-4955-450a-a5b4-8e795c7e7fec",
   "metadata": {},
   "outputs": [],
   "source": [
    "from kirin import ir\n",
    "from qiskit import QuantumCircuit\n",
    "\n",
    "from bloqade.qasm2.rewrite.native_gates import RydbergGateSetRewriteRule\n",
    "from kirin import ir\n",
    "from kirin.rewrite import Walk\n",
    "from bloqade.qasm2.passes import UOpToParallel, QASM2Fold\n",
    "\n",
    "\n",
    "@ir.dialect_group(qasm2.extended)\n",
    "def extended_opt(self):\n",
    "    native_rewrite = Walk(RydbergGateSetRewriteRule(self)) # use Kirin's functionality to walk code line by line while applying neutral-atom gate decomposition as defined in Bloqade\n",
    "    parallelize_pass = UOpToParallel(self) # review the code and apply parallelization using a heuristic\n",
    "    agg_fold = QASM2Fold(self) # supports parallelization by unfolding loops to search for parallelization opportunities\n",
    "\n",
    "    # here we define our new compiler pass\n",
    "    def run_pass(\n",
    "        kernel: ir.Method,\n",
    "        *,\n",
    "        fold: bool = True,\n",
    "        typeinfer: bool = True,\n",
    "        parallelize: bool = False,\n",
    "    ):\n",
    "        assert qasm2.extended.run_pass is not None\n",
    "        qasm2.extended.run_pass(kernel, fold=fold, typeinfer=typeinfer) # apply the original run_pass to the lowered kernel\n",
    "        native_rewrite.rewrite(kernel.code) # decompose all gates in the circuit to neutral atom gate set\n",
    "\n",
    "        # here goes our parallelization optimizer; the order of the commands here matters!\n",
    "        if parallelize:\n",
    "            agg_fold.fixpoint(kernel)\n",
    "            parallelize_pass(kernel)\n",
    "\n",
    "    return run_pass\n"
   ]
  },
  {
   "cell_type": "code",
   "execution_count": 19,
   "id": "f1aeaba3-c03b-494c-89bb-b97cfa1a87ef",
   "metadata": {},
   "outputs": [],
   "source": [
    "# helper to go from Method → Qiskit\n",
    "def method_to_qiskit(method: ir.Method, *,parallelize: bool = True) -> QuantumCircuit:\n",
    "    # run extended pass in case forgot\n",
    "    extended_opt.run_pass(method, parallelize=parallelize)\n",
    "    # emit OpenQASM2 text\n",
    "    qasm = QASM2().emit_str(method)\n",
    "    # parse into a Qiskit circuit\n",
    "    return QuantumCircuit.from_qasm_str(qasm)"
   ]
  },
  {
   "cell_type": "code",
   "execution_count": 20,
   "id": "20873480-4bd0-49b3-9132-90604efaa640",
   "metadata": {},
   "outputs": [
    {
     "ename": "AttributeError",
     "evalue": "'MainProgram' object has no attribute 'verify'",
     "output_type": "error",
     "traceback": [
      "\u001b[31m---------------------------------------------------------------------------\u001b[39m",
      "\u001b[31mAttributeError\u001b[39m                            Traceback (most recent call last)",
      "\u001b[36mCell\u001b[39m\u001b[36m \u001b[39m\u001b[32mIn[20]\u001b[39m\u001b[32m, line 1\u001b[39m\n\u001b[32m----> \u001b[39m\u001b[32m1\u001b[39m qc = method_to_qiskit(program_ast)\n\u001b[32m      2\u001b[39m \u001b[38;5;66;03m#print(qc.draw(output=\"text\"))\u001b[39;00m\n\u001b[32m      3\u001b[39m fig = qc.draw(output=\u001b[33m\"\u001b[39m\u001b[33mmpl\u001b[39m\u001b[33m\"\u001b[39m, fold=\u001b[32m120\u001b[39m, scale=\u001b[32m0.7\u001b[39m)\n",
      "\u001b[36mCell\u001b[39m\u001b[36m \u001b[39m\u001b[32mIn[19]\u001b[39m\u001b[32m, line 4\u001b[39m, in \u001b[36mmethod_to_qiskit\u001b[39m\u001b[34m(method, parallelize)\u001b[39m\n\u001b[32m      2\u001b[39m \u001b[38;5;28;01mdef\u001b[39;00m\u001b[38;5;250m \u001b[39m\u001b[34mmethod_to_qiskit\u001b[39m(method: ir.Method, *,parallelize: \u001b[38;5;28mbool\u001b[39m = \u001b[38;5;28;01mTrue\u001b[39;00m) -> QuantumCircuit:\n\u001b[32m      3\u001b[39m     \u001b[38;5;66;03m# run extended pass in case forgot\u001b[39;00m\n\u001b[32m----> \u001b[39m\u001b[32m4\u001b[39m     extended_opt.run_pass(method, parallelize=parallelize)\n\u001b[32m      5\u001b[39m     \u001b[38;5;66;03m# emit OpenQASM2 text\u001b[39;00m\n\u001b[32m      6\u001b[39m     qasm = QASM2().emit_str(method)\n",
      "\u001b[36mCell\u001b[39m\u001b[36m \u001b[39m\u001b[32mIn[18]\u001b[39m\u001b[32m, line 25\u001b[39m, in \u001b[36mextended_opt.<locals>.run_pass\u001b[39m\u001b[34m(kernel, fold, typeinfer, parallelize)\u001b[39m\n\u001b[32m     17\u001b[39m \u001b[38;5;28;01mdef\u001b[39;00m\u001b[38;5;250m \u001b[39m\u001b[34mrun_pass\u001b[39m(\n\u001b[32m     18\u001b[39m     kernel: ir.Method,\n\u001b[32m     19\u001b[39m     *,\n\u001b[32m   (...)\u001b[39m\u001b[32m     22\u001b[39m     parallelize: \u001b[38;5;28mbool\u001b[39m = \u001b[38;5;28;01mFalse\u001b[39;00m,\n\u001b[32m     23\u001b[39m ):\n\u001b[32m     24\u001b[39m     \u001b[38;5;28;01massert\u001b[39;00m qasm2.extended.run_pass \u001b[38;5;129;01mis\u001b[39;00m \u001b[38;5;129;01mnot\u001b[39;00m \u001b[38;5;28;01mNone\u001b[39;00m\n\u001b[32m---> \u001b[39m\u001b[32m25\u001b[39m     qasm2.extended.run_pass(kernel, fold=fold, typeinfer=typeinfer) \u001b[38;5;66;03m# apply the original run_pass to the lowered kernel\u001b[39;00m\n\u001b[32m     26\u001b[39m     native_rewrite.rewrite(kernel.code) \u001b[38;5;66;03m# decompose all gates in the circuit to neutral atom gate set\u001b[39;00m\n\u001b[32m     28\u001b[39m     \u001b[38;5;66;03m# here goes our parallelization optimizer; the order of the commands here matters!\u001b[39;00m\n",
      "\u001b[36mFile \u001b[39m\u001b[32m~/opt/anaconda3/envs/ETH/lib/python3.12/site-packages/bloqade/qasm2/groups.py:108\u001b[39m, in \u001b[36mextended.<locals>.run_pass\u001b[39m\u001b[34m(mt, fold, typeinfer)\u001b[39m\n\u001b[32m    102\u001b[39m \u001b[38;5;28;01mdef\u001b[39;00m\u001b[38;5;250m \u001b[39m\u001b[34mrun_pass\u001b[39m(\n\u001b[32m    103\u001b[39m     mt: ir.Method,\n\u001b[32m    104\u001b[39m     *,\n\u001b[32m    105\u001b[39m     fold: \u001b[38;5;28mbool\u001b[39m = \u001b[38;5;28;01mTrue\u001b[39;00m,\n\u001b[32m    106\u001b[39m     typeinfer: \u001b[38;5;28mbool\u001b[39m = \u001b[38;5;28;01mTrue\u001b[39;00m,\n\u001b[32m    107\u001b[39m ):\n\u001b[32m--> \u001b[39m\u001b[32m108\u001b[39m     mt.verify()\n\u001b[32m    109\u001b[39m     \u001b[38;5;28;01mif\u001b[39;00m fold:\n\u001b[32m    110\u001b[39m         fold_pass.fixpoint(mt)\n",
      "\u001b[31mAttributeError\u001b[39m: 'MainProgram' object has no attribute 'verify'"
     ]
    }
   ],
   "source": [
    "qc = method_to_qiskit(program_ast)\n",
    "#print(qc.draw(output=\"text\"))\n",
    "fig = qc.draw(output=\"mpl\", fold=120, scale=0.7)\n",
    "display(fig)   # in a Jupyter notebook"
   ]
  }
 ],
 "metadata": {
  "kernelspec": {
   "display_name": "Python 3 (ipykernel)",
   "language": "python",
   "name": "python3"
  },
  "language_info": {
   "codemirror_mode": {
    "name": "ipython",
    "version": 3
   },
   "file_extension": ".py",
   "mimetype": "text/x-python",
   "name": "python",
   "nbconvert_exporter": "python",
   "pygments_lexer": "ipython3",
   "version": "3.12.9"
  }
 },
 "nbformat": 4,
 "nbformat_minor": 5
}
